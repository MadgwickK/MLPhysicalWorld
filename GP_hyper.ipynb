{
 "cells": [
  {
   "cell_type": "code",
   "execution_count": 1,
   "metadata": {},
   "outputs": [],
   "source": [
    "import numpy as np\n",
    "from gaussian_process import GaussianProcess, matern52_kernel\n",
    "from bayes_opt import BayesianOptimisation, expected_improvement\n",
    "from samplers import gaussian_sampling\n",
    "from objectives import log_likelihood\n",
    "import matplotlib.pyplot as plt\n",
    "from parameter_estimation import estimate_params\n",
    "from lensmodel import mean_function_theta\n",
    "from packages.utils import read_and_convert, plot_final_params"
   ]
  },
  {
   "cell_type": "code",
   "execution_count": null,
   "metadata": {},
   "outputs": [
    {
     "name": "stdout",
     "output_type": "stream",
     "text": [
      "(1000,) (821, 1000) (821, 821)\n"
     ]
    },
    {
     "ename": "ValueError",
     "evalue": "operands could not be broadcast together with shapes (1000,) (1000,821) ",
     "output_type": "error",
     "traceback": [
      "\u001b[0;31m---------------------------------------------------------------------------\u001b[0m",
      "\u001b[0;31mValueError\u001b[0m                                Traceback (most recent call last)",
      "Cell \u001b[0;32mIn[2], line 16\u001b[0m\n\u001b[1;32m     14\u001b[0m gp \u001b[38;5;241m=\u001b[39m GaussianProcess(kernel\u001b[38;5;241m=\u001b[39mmatern52_kernel, sigma_l\u001b[38;5;241m=\u001b[39m\u001b[38;5;241m1\u001b[39m, sigma_f\u001b[38;5;241m=\u001b[39m\u001b[38;5;241m1\u001b[39m)\n\u001b[1;32m     15\u001b[0m gp\u001b[38;5;241m.\u001b[39mfit(time\u001b[38;5;241m.\u001b[39mreshape(\u001b[38;5;241m-\u001b[39m\u001b[38;5;241m1\u001b[39m, \u001b[38;5;241m1\u001b[39m), mags\u001b[38;5;241m.\u001b[39mreshape(\u001b[38;5;241m-\u001b[39m\u001b[38;5;241m1\u001b[39m, \u001b[38;5;241m1\u001b[39m))\n\u001b[0;32m---> 16\u001b[0m \u001b[43mgp\u001b[49m\u001b[38;5;241;43m.\u001b[39;49m\u001b[43mpredict\u001b[49m\u001b[43m(\u001b[49m\u001b[43mx\u001b[49m\u001b[43m)\u001b[49m\n",
      "File \u001b[0;32m~/Library/CloudStorage/OneDrive-TheUniversityofManchester/Y1_onedrive/ML_Phys/MLPhysicalWorld/gaussian_process.py:130\u001b[0m, in \u001b[0;36mGaussianProcess.predict\u001b[0;34m(self, x_test, noise_variance)\u001b[0m\n\u001b[1;32m    128\u001b[0m mean_test \u001b[38;5;241m=\u001b[39m \u001b[38;5;28mself\u001b[39m\u001b[38;5;241m.\u001b[39mmean_function(x_test)\n\u001b[1;32m    129\u001b[0m \u001b[38;5;28mprint\u001b[39m(np\u001b[38;5;241m.\u001b[39mshape(mean_test), np\u001b[38;5;241m.\u001b[39mshape(K_s), np\u001b[38;5;241m.\u001b[39mshape(\u001b[38;5;28mself\u001b[39m\u001b[38;5;241m.\u001b[39malpha))\n\u001b[0;32m--> 130\u001b[0m mu_s \u001b[38;5;241m=\u001b[39m \u001b[43mmean_test\u001b[49m\u001b[43m \u001b[49m\u001b[38;5;241;43m+\u001b[39;49m\u001b[43m \u001b[49m\u001b[43mK_s\u001b[49m\u001b[38;5;241;43m.\u001b[39;49m\u001b[43mT\u001b[49m\u001b[38;5;241;43m.\u001b[39;49m\u001b[43mdot\u001b[49m\u001b[43m(\u001b[49m\u001b[38;5;28;43mself\u001b[39;49m\u001b[38;5;241;43m.\u001b[39;49m\u001b[43malpha\u001b[49m\u001b[43m)\u001b[49m\n\u001b[1;32m    132\u001b[0m var \u001b[38;5;241m=\u001b[39m np\u001b[38;5;241m.\u001b[39mlinalg\u001b[38;5;241m.\u001b[39msolve(\u001b[38;5;28mself\u001b[39m\u001b[38;5;241m.\u001b[39mL, K_s)\n\u001b[1;32m    133\u001b[0m cov_s \u001b[38;5;241m=\u001b[39m K_ss \u001b[38;5;241m-\u001b[39m var\u001b[38;5;241m.\u001b[39mT\u001b[38;5;241m.\u001b[39mdot(var)\n",
      "\u001b[0;31mValueError\u001b[0m: operands could not be broadcast together with shapes (1000,) (1000,821) "
     ]
    }
   ],
   "source": [
    "\"\"\"\n",
    "In this file we will test the GP fit on the real data using differnt kernel and parameters\n",
    "\"\"\"\n",
    "\n",
    "I_0 = 19.956 - 0.361 * 2\n",
    "f_s = 0.528\n",
    "time, mags, mags_error = read_and_convert(\n",
    "    \"sample_data_OGLE/OGLE-2023-BLG-0002.dat\", I_0, f_s\n",
    ")\n",
    "\n",
    "# create xlist of times\n",
    "x = np.linspace(min(time), max(time), 1000)\n",
    "x = x.reshape(-1, 1)\n",
    "gp = GaussianProcess(kernel=matern52_kernel, sigma_l=1, sigma_f=1)\n",
    "gp.fit(time.reshape(-1, 1), mags.reshape(-1, 1))\n",
    "gp.predict(x)"
   ]
  },
  {
   "cell_type": "code",
   "execution_count": 31,
   "metadata": {},
   "outputs": [
    {
     "data": {
      "text/plain": [
       "(1000, 1)"
      ]
     },
     "execution_count": 31,
     "metadata": {},
     "output_type": "execute_result"
    }
   ],
   "source": [
    "# convert time to 1D\n",
    "\n",
    "np.shape(x)"
   ]
  },
  {
   "cell_type": "code",
   "execution_count": 17,
   "metadata": {},
   "outputs": [
    {
     "data": {
      "text/plain": [
       "(0, 3)"
      ]
     },
     "execution_count": 17,
     "metadata": {},
     "output_type": "execute_result"
    }
   ],
   "source": [
    "np.shape(np.empty((0, 3)))"
   ]
  },
  {
   "cell_type": "code",
   "execution_count": null,
   "metadata": {},
   "outputs": [],
   "source": []
  }
 ],
 "metadata": {
  "kernelspec": {
   "display_name": "base",
   "language": "python",
   "name": "python3"
  },
  "language_info": {
   "codemirror_mode": {
    "name": "ipython",
    "version": 3
   },
   "file_extension": ".py",
   "mimetype": "text/x-python",
   "name": "python",
   "nbconvert_exporter": "python",
   "pygments_lexer": "ipython3",
   "version": "3.10.15"
  }
 },
 "nbformat": 4,
 "nbformat_minor": 2
}
