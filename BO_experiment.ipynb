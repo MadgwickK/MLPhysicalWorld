{
 "cells": [
  {
   "cell_type": "code",
   "execution_count": 6,
   "metadata": {},
   "outputs": [
    {
     "name": "stdout",
     "output_type": "stream",
     "text": [
      "Initial predictions:\n",
      "    t_0: 2460008.4880878218 ± 10.462160090471391\n",
      "    u_min: 0.32458695827035433 ± 0.06928848245005226\n",
      "    t_E: 160.6167010268207 ± 96.29206517345838\n"
     ]
    },
    {
     "name": "stderr",
     "output_type": "stream",
     "text": [
      "c:\\Users\\pokey\\OneDrive - The University of Manchester\\Y1_onedrive\\ML_Phys\\MLPhysicalWorld\\gaussian_process.py:22: RuntimeWarning: invalid value encountered in multiply\n",
      "  5 * dist**2 /(3 * sigma_l**2)) * np.exp(-np.sqrt(5) * dist/sigma_l)\n"
     ]
    },
    {
     "name": "stdout",
     "output_type": "stream",
     "text": [
      "Final predictions:\n",
      "    t_0: 2459983.2610471 ± 6.077826288391647\n",
      "    u_min: 0.42687852329722975 ± 0.033480210696651046\n",
      "    t_E: 70.93530884304919 ± 153.0557090524292\n"
     ]
    },
    {
     "data": {
      "image/png": "[encoded data removed]",
      "text/plain": [
       "<Figure size 640x480 with 1 Axes>"
      ]
     },
     "metadata": {},
     "output_type": "display_data"
    }
   ],
   "source": [
    "import numpy as np\n",
    "from gaussian_process import GaussianProcess, matern52_kernel\n",
    "from lensmodel import noisy_data_calc\n",
    "from bayes_opt import BayesianOptimisation, expected_improvement\n",
    "from samplers import gaussian_sobol\n",
    "from objectives import mse\n",
    "import matplotlib.pyplot as plt\n",
    "from parameter_estimation import estimate_params\n",
    "from lensmodel import mean_function_theta, read_and_convert, plot_final_params\n",
    "\n",
    "df = read_and_convert(\"sample_data_OGLE/OGLE-2023-BLG-0063.dat\", I_0=17.078)\n",
    "X = df['Timestamp'].values\n",
    "Y = df['Magnification'].values\n",
    "\n",
    "observed_times, magnifications = X, Y\n",
    "\n",
    "parameter_bounds = {\n",
    "    't_E':      [0.01, 700],    # days\n",
    "    't_0':      [-5, 5],        # days (placeholder, updated in the code)\n",
    "    'u_min':    [0, 4]          # unitless\n",
    "}\n",
    "\n",
    "bounds = parameter_bounds\n",
    "\n",
    "mean_function = None\n",
    "sigma = 1\n",
    "\n",
    "# Change bounds on t_0 before estimating\n",
    "bounds['t_0'] = [np.min(observed_times), np.max(observed_times)]\n",
    "\n",
    "# Estimate parameters using bootstrapping\n",
    "t_E, t_E_error, t_0, t_0_error, u_min, u_min_error = estimate_params(observed_times,\n",
    "                                                                        magnifications, bounds,\n",
    "                                                                        mean_function)\n",
    "\n",
    "print(\n",
    "    \"Initial predictions:\\n\"\n",
    "    f\"    t_0: {t_0} \\u00B1 {sigma*t_0_error}\\n\"\n",
    "    f\"    u_min: {u_min} \\u00B1 {sigma*u_min_error}\\n\"\n",
    "    f\"    t_E: {t_E} \\u00B1 {sigma*t_E_error}\"\n",
    ")\n",
    "\n",
    "# Changes bounds to take into account predictions\n",
    "bounds['t_0'] = [t_0 - sigma*t_0_error, t_0 + sigma*t_0_error]\n",
    "bounds['t_E'] = [t_E - sigma*t_E_error, t_E + sigma*t_E_error]\n",
    "bounds['u_min'] = [u_min - sigma*u_min_error, u_min + sigma*u_min_error]\n",
    "\n",
    "parameter_samples = []\n",
    "for i in range(10):\n",
    "    # Define surrogate Gaussian process\n",
    "    gp = GaussianProcess(kernel=matern52_kernel, sigma_l=1, sigma_f=1)\n",
    "\n",
    "    # Define Bayesian optimisation\n",
    "    optimiser = BayesianOptimisation(surrogate=gp, acquisition=expected_improvement,\n",
    "                                        objective=mse, bounds=parameter_bounds,\n",
    "                                        sampler=gaussian_sobol)\n",
    "\n",
    "    # Fit for parameters using the defined Bayesian optimiser\n",
    "    optimiser.fit(observed_times, magnifications, 300)\n",
    "\n",
    "    # Plot regret and results\n",
    "    # optimiser.regret_plot()\n",
    "    # optimiser.plot_best_param()\n",
    "\n",
    "    # Append found parameters to the list of all predictions\n",
    "    parameter_samples.append(optimiser.x_samples[optimiser.current_best_index])\n",
    "\n",
    "# Calculate the best parameters and their errors as a mean and standard deviation of the 10 runs\n",
    "best_parameters = np.mean(parameter_samples, axis=0)\n",
    "best_parameter_errors = np.std(parameter_samples, axis=0)\n",
    "\n",
    "print(\n",
    "    \"Final predictions:\\n\"\n",
    "    f\"    t_0: {best_parameters[1]} \\u00B1 {best_parameter_errors[1]}\\n\"\n",
    "    f\"    u_min: {best_parameters[2]} \\u00B1 {best_parameter_errors[2]}\\n\"\n",
    "    f\"    t_E: {best_parameters[0]} \\u00B1 {best_parameter_errors[0]}\"\n",
    ")\n",
    "\n",
    "plot_final_params(observed_times, magnifications, best_parameters)"
   ]
  },
  {
   "cell_type": "code",
   "execution_count": null,
   "metadata": {},
   "outputs": [],
   "source": []
  },
  {
   "cell_type": "code",
   "execution_count": null,
   "metadata": {},
   "outputs": [],
   "source": []
  }
 ],
 "metadata": {
  "kernelspec": {
   "display_name": "py37",
   "language": "python",
   "name": "python3"
  },
  "language_info": {
   "codemirror_mode": {
    "name": "ipython",
    "version": 3
   },
   "file_extension": ".py",
   "mimetype": "text/x-python",
   "name": "python",
   "nbconvert_exporter": "python",
   "pygments_lexer": "ipython3",
   "version": "3.7.12"
  }
 },
 "nbformat": 4,
 "nbformat_minor": 2
}
