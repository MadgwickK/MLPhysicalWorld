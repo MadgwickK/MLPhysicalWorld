{
 "cells": [
  {
   "cell_type": "code",
   "execution_count": 15,
   "metadata": {},
   "outputs": [],
   "source": [
    "import numpy as np\n",
    "from gaussian_process import GaussianProcess, matern52_kernel, rbf_kernel\n",
    "from bayes_opt import BayesianOptimisation, expected_improvement\n",
    "from samplers import gaussian_sampling\n",
    "from objectives import log_likelihood\n",
    "import matplotlib.pyplot as plt\n",
    "from parameter_estimation import estimate_params\n",
    "from lensmodel import mean_function_theta, noisy_data_calc\n",
    "from packages.utils import read_and_convert, plot_final_params\n",
    "import seaborn as sns\n",
    "import pandas as pd"
   ]
  },
  {
   "cell_type": "code",
   "execution_count": 2,
   "metadata": {},
   "outputs": [],
   "source": [
    "sns.set_theme(style=\"white\", context=\"paper\")\n",
    "plt.rcParams.update(\n",
    "    {\n",
    "        \"axes.titlesize\": 14,\n",
    "        \"axes.labelsize\": 14,\n",
    "        \"legend.fontsize\": 10,\n",
    "        \"figure.dpi\": 300,\n",
    "        \"savefig.format\": \"png\",\n",
    "        \"figure.figsize\": (6, 4),\n",
    "    }\n",
    ")"
   ]
  },
  {
   "cell_type": "code",
   "execution_count": 13,
   "metadata": {},
   "outputs": [
    {
     "name": "stderr",
     "output_type": "stream",
     "text": [
      "/var/folders/dj/0r5cvjdd4_93c83t_7cz_zp40000gp/T/ipykernel_84764/179284875.py:3: ParserWarning: Falling back to the 'python' engine because the 'c' engine does not support regex separators (separators > 1 char and different from '\\s+' are interpreted as regex); you can avoid this warning by specifying engine='python'.\n",
      "  params_df = pd.read_csv(\n"
     ]
    }
   ],
   "source": [
    "# read GAIA parameters\n",
    "\n",
    "params_df = pd.read_csv(\n",
    "    \"parameter_list.txt\", delimiter=\"\\s\", names=[\"t_E\", \"u_min\", \"t_0\"], header=None\n",
    ")\n",
    "\n",
    "params_df = params_df.head(5).copy()"
   ]
  },
  {
   "cell_type": "code",
   "execution_count": 14,
   "metadata": {},
   "outputs": [
    {
     "data": {
      "text/html": [
       "<div>\n",
       "<style scoped>\n",
       "    .dataframe tbody tr th:only-of-type {\n",
       "        vertical-align: middle;\n",
       "    }\n",
       "\n",
       "    .dataframe tbody tr th {\n",
       "        vertical-align: top;\n",
       "    }\n",
       "\n",
       "    .dataframe thead th {\n",
       "        text-align: right;\n",
       "    }\n",
       "</style>\n",
       "<table border=\"1\" class=\"dataframe\">\n",
       "  <thead>\n",
       "    <tr style=\"text-align: right;\">\n",
       "      <th></th>\n",
       "      <th>t_E</th>\n",
       "      <th>u_min</th>\n",
       "      <th>t_0</th>\n",
       "    </tr>\n",
       "  </thead>\n",
       "  <tbody>\n",
       "    <tr>\n",
       "      <th>0</th>\n",
       "      <td>105.862140</td>\n",
       "      <td>0.588896</td>\n",
       "      <td>2643.087708</td>\n",
       "    </tr>\n",
       "    <tr>\n",
       "      <th>1</th>\n",
       "      <td>62.951470</td>\n",
       "      <td>0.738231</td>\n",
       "      <td>2197.721736</td>\n",
       "    </tr>\n",
       "    <tr>\n",
       "      <th>2</th>\n",
       "      <td>59.819440</td>\n",
       "      <td>0.201541</td>\n",
       "      <td>2241.026977</td>\n",
       "    </tr>\n",
       "    <tr>\n",
       "      <th>3</th>\n",
       "      <td>54.468918</td>\n",
       "      <td>1.156584</td>\n",
       "      <td>2237.518976</td>\n",
       "    </tr>\n",
       "    <tr>\n",
       "      <th>4</th>\n",
       "      <td>123.482200</td>\n",
       "      <td>0.253936</td>\n",
       "      <td>2604.113253</td>\n",
       "    </tr>\n",
       "  </tbody>\n",
       "</table>\n",
       "</div>"
      ],
      "text/plain": [
       "          t_E     u_min          t_0\n",
       "0  105.862140  0.588896  2643.087708\n",
       "1   62.951470  0.738231  2197.721736\n",
       "2   59.819440  0.201541  2241.026977\n",
       "3   54.468918  1.156584  2237.518976\n",
       "4  123.482200  0.253936  2604.113253"
      ]
     },
     "execution_count": 14,
     "metadata": {},
     "output_type": "execute_result"
    }
   ],
   "source": [
    "# for each colum in the dataframe, we will first generate simulated data,\n",
    "# then apply the BO pipeline on the simulated data to estimate the parameters\n",
    "\n",
    "for i in range(len(params_df)):\n",
    "    t_E = params_df.iloc[i][\"t_E\"]\n",
    "    u_min = params_df.iloc[i][\"u_min\"]\n",
    "    t_0 = params_df.iloc[i][\"t_0\"]\n",
    "    truevalues = [t_E, u_min, t_0]\n",
    "\n",
    "    # generate simulated data\n",
    "    times, mags = noisy_data_calc(-100, 100, truevalues, 0.1, 101)"
   ]
  },
  {
   "cell_type": "code",
   "execution_count": null,
   "metadata": {},
   "outputs": [],
   "source": []
  }
 ],
 "metadata": {
  "kernelspec": {
   "display_name": "base",
   "language": "python",
   "name": "python3"
  },
  "language_info": {
   "codemirror_mode": {
    "name": "ipython",
    "version": 3
   },
   "file_extension": ".py",
   "mimetype": "text/x-python",
   "name": "python",
   "nbconvert_exporter": "python",
   "pygments_lexer": "ipython3",
   "version": "3.10.15"
  }
 },
 "nbformat": 4,
 "nbformat_minor": 2
}
